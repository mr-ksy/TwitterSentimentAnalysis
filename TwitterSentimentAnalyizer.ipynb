{
  "nbformat": 4,
  "nbformat_minor": 0,
  "metadata": {
    "colab": {
      "name": "TwitterSentimentAnalyizer.ipynb",
      "provenance": []
    },
    "kernelspec": {
      "name": "python3",
      "display_name": "Python 3"
    }
  },
  "cells": [
    {
      "cell_type": "markdown",
      "metadata": {
        "id": "8_a_t6sHmN3z"
      },
      "source": [
        "A python program to get the tweets from twitter using twittwer api and get the sentiment score."
      ]
    },
    {
      "cell_type": "code",
      "metadata": {
        "id": "uaE0ltKRmfTZ"
      },
      "source": [
        "#----------import libraries----------\n",
        "import tweepy\n",
        "from textblob import TextBlob\n",
        "import pandas as pd\n",
        "import numpy as np\n",
        "import re\n",
        "from wordcloud import WordCloud\n",
        "import matplotlib.pyplot as plt\n"
      ],
      "execution_count": 23,
      "outputs": []
    },
    {
      "cell_type": "code",
      "metadata": {
        "id": "BWTnjDYh3VAQ"
      },
      "source": [
        "#----------Sample Twiter api credentials----------\n",
        "c_key = 'cRjT9hq0hpoHjpCYM9c8XGTQe'\n",
        "c_secret = '6he7tK6KH4A1oqVqiu3djCgpu1dtCHXijftKoVfIkyGdY2vUWi'\n",
        "a_key = '740485466382868480-P9COIlo5B3ddDlndomlmWCyd1TvDRW1'\n",
        "a_secret = 'gUbKMd2tuRJFugGwGZP77gUkxSIHQQoWlcJPiI4jAnk0k'"
      ],
      "execution_count": 24,
      "outputs": []
    },
    {
      "cell_type": "code",
      "metadata": {
        "id": "dZ6I5ZMB3_IX"
      },
      "source": [
        "#----------Authentication objects----------\n",
        "authenticate =tweepy.OAuthHandler(c_key,c_secret)\n",
        "\n",
        "authenticate.set_access_token(a_key,a_secret)\n",
        "\n",
        "#api obj while passing the auth information\n",
        "\n",
        "api =tweepy.API(authenticate,wait_on_rate_limit=True)"
      ],
      "execution_count": 25,
      "outputs": []
    },
    {
      "cell_type": "code",
      "metadata": {
        "id": "xxL5UXij5JoO",
        "outputId": "3f727539-1457-4005-a6fa-205acde319a0",
        "colab": {
          "base_uri": "https://localhost:8080/",
          "height": 241
        }
      },
      "source": [
        "#Extracting post from user\n",
        "\n",
        "posts= api.user_timeline(screen_name=\"BillGates\", count =100,lang =\"en\",tweet_mode=\"extended\")\n",
        "\n",
        "print(\"show the 5 recent tweets \\n\")\n",
        "i=1\n",
        "for tweet in posts[0:5]:\n",
        "  print(str(i)+') '+tweet.full_text +'\\n')\n",
        "  i=i+1"
      ],
      "execution_count": 26,
      "outputs": [
        {
          "output_type": "stream",
          "text": [
            "show the 5 recent tweets \n",
            "\n",
            "1) For decades, @Rotary has worked tirelessly to #EndPolio. Today, the health infrastructure they’ve built around the world is supporting the COVID-19 response. #WorldPolioDay https://t.co/67liH7akNH\n",
            "\n",
            "2) RT @StephenCurry30: Even with his busy schedule, Dr. Fauci took the time to sit down with me (AGAIN) and talk about what we’ve gotten right…\n",
            "\n",
            "3) I’ve been working for some time on a book about what we need to do over the next decade to avoid a climate disaster. I’m excited that it will be published on February 16. https://t.co/M9QYX93fd5\n",
            "\n",
            "4) It’s inspiring to see so much passion these days for dealing with climate change, and to know that the world has set some ambitious goals for solving it. What we need now are practical plans to reach those goals.\n",
            "\n",
            "5) India’s research and manufacturing capacity are critical for fighting COVID-19. Thank you @narendramodi for speaking at today’s Grand Challenges meeting. @PMOIndia https://t.co/ZMmIL0xxWi\n",
            "\n"
          ],
          "name": "stdout"
        }
      ]
    },
    {
      "cell_type": "code",
      "metadata": {
        "id": "V6FPB4Uu6LNL",
        "outputId": "0f10206c-2d6f-423f-b4e8-5aadd370e3ca",
        "colab": {
          "base_uri": "https://localhost:8080/",
          "height": 204
        }
      },
      "source": [
        "#dataframe for tweets\n",
        "df =pd.DataFrame([tweet.full_text for tweet in posts],columns=['Tweets'])\n",
        "df.head()"
      ],
      "execution_count": 27,
      "outputs": [
        {
          "output_type": "execute_result",
          "data": {
            "text/html": [
              "<div>\n",
              "<style scoped>\n",
              "    .dataframe tbody tr th:only-of-type {\n",
              "        vertical-align: middle;\n",
              "    }\n",
              "\n",
              "    .dataframe tbody tr th {\n",
              "        vertical-align: top;\n",
              "    }\n",
              "\n",
              "    .dataframe thead th {\n",
              "        text-align: right;\n",
              "    }\n",
              "</style>\n",
              "<table border=\"1\" class=\"dataframe\">\n",
              "  <thead>\n",
              "    <tr style=\"text-align: right;\">\n",
              "      <th></th>\n",
              "      <th>Tweets</th>\n",
              "    </tr>\n",
              "  </thead>\n",
              "  <tbody>\n",
              "    <tr>\n",
              "      <th>0</th>\n",
              "      <td>For decades, @Rotary has worked tirelessly to ...</td>\n",
              "    </tr>\n",
              "    <tr>\n",
              "      <th>1</th>\n",
              "      <td>RT @StephenCurry30: Even with his busy schedul...</td>\n",
              "    </tr>\n",
              "    <tr>\n",
              "      <th>2</th>\n",
              "      <td>I’ve been working for some time on a book abou...</td>\n",
              "    </tr>\n",
              "    <tr>\n",
              "      <th>3</th>\n",
              "      <td>It’s inspiring to see so much passion these da...</td>\n",
              "    </tr>\n",
              "    <tr>\n",
              "      <th>4</th>\n",
              "      <td>India’s research and manufacturing capacity ar...</td>\n",
              "    </tr>\n",
              "  </tbody>\n",
              "</table>\n",
              "</div>"
            ],
            "text/plain": [
              "                                              Tweets\n",
              "0  For decades, @Rotary has worked tirelessly to ...\n",
              "1  RT @StephenCurry30: Even with his busy schedul...\n",
              "2  I’ve been working for some time on a book abou...\n",
              "3  It’s inspiring to see so much passion these da...\n",
              "4  India’s research and manufacturing capacity ar..."
            ]
          },
          "metadata": {
            "tags": []
          },
          "execution_count": 27
        }
      ]
    },
    {
      "cell_type": "code",
      "metadata": {
        "id": "9JNgD4iwwp4s",
        "outputId": "6d3cad3e-0ee7-4e64-bec3-8985f1be69a5",
        "colab": {
          "base_uri": "https://localhost:8080/",
          "height": 419
        }
      },
      "source": [
        "#clean the text\n",
        "#fn\n",
        "def cleanTxt(text):\n",
        "  text= re.sub(r'@[a-zA-Z0-9]+','',text)# removes @\n",
        "  text= re.sub(r'#','',text)#removes #\n",
        "  text=re.sub(r'RT[\\s]+','',text)#removes RT\n",
        "  text= re.sub(r'https?:\\/\\/\\S+','',text)#removes url\n",
        "\n",
        "  return text\n",
        "\n",
        "\n",
        "df['Tweets']=df['Tweets'].apply(cleanTxt)\n",
        "df\n"
      ],
      "execution_count": 28,
      "outputs": [
        {
          "output_type": "execute_result",
          "data": {
            "text/html": [
              "<div>\n",
              "<style scoped>\n",
              "    .dataframe tbody tr th:only-of-type {\n",
              "        vertical-align: middle;\n",
              "    }\n",
              "\n",
              "    .dataframe tbody tr th {\n",
              "        vertical-align: top;\n",
              "    }\n",
              "\n",
              "    .dataframe thead th {\n",
              "        text-align: right;\n",
              "    }\n",
              "</style>\n",
              "<table border=\"1\" class=\"dataframe\">\n",
              "  <thead>\n",
              "    <tr style=\"text-align: right;\">\n",
              "      <th></th>\n",
              "      <th>Tweets</th>\n",
              "    </tr>\n",
              "  </thead>\n",
              "  <tbody>\n",
              "    <tr>\n",
              "      <th>0</th>\n",
              "      <td>For decades,  has worked tirelessly to EndPoli...</td>\n",
              "    </tr>\n",
              "    <tr>\n",
              "      <th>1</th>\n",
              "      <td>: Even with his busy schedule, Dr. Fauci took ...</td>\n",
              "    </tr>\n",
              "    <tr>\n",
              "      <th>2</th>\n",
              "      <td>I’ve been working for some time on a book abou...</td>\n",
              "    </tr>\n",
              "    <tr>\n",
              "      <th>3</th>\n",
              "      <td>It’s inspiring to see so much passion these da...</td>\n",
              "    </tr>\n",
              "    <tr>\n",
              "      <th>4</th>\n",
              "      <td>India’s research and manufacturing capacity ar...</td>\n",
              "    </tr>\n",
              "    <tr>\n",
              "      <th>...</th>\n",
              "      <td>...</td>\n",
              "    </tr>\n",
              "    <tr>\n",
              "      <th>95</th>\n",
              "      <td>Class of 2020, these are not easy times. But w...</td>\n",
              "    </tr>\n",
              "    <tr>\n",
              "      <th>96</th>\n",
              "      <td>: To overcome COVID19 the world doesn’t just n...</td>\n",
              "    </tr>\n",
              "    <tr>\n",
              "      <th>97</th>\n",
              "      <td>There are over 100 different coronavirus vacci...</td>\n",
              "    </tr>\n",
              "    <tr>\n",
              "      <th>98</th>\n",
              "      <td>Humankind has never had a more urgent task tha...</td>\n",
              "    </tr>\n",
              "    <tr>\n",
              "      <th>99</th>\n",
              "      <td>: Developing a vaccine against COVID19 is amon...</td>\n",
              "    </tr>\n",
              "  </tbody>\n",
              "</table>\n",
              "<p>100 rows × 1 columns</p>\n",
              "</div>"
            ],
            "text/plain": [
              "                                               Tweets\n",
              "0   For decades,  has worked tirelessly to EndPoli...\n",
              "1   : Even with his busy schedule, Dr. Fauci took ...\n",
              "2   I’ve been working for some time on a book abou...\n",
              "3   It’s inspiring to see so much passion these da...\n",
              "4   India’s research and manufacturing capacity ar...\n",
              "..                                                ...\n",
              "95  Class of 2020, these are not easy times. But w...\n",
              "96  : To overcome COVID19 the world doesn’t just n...\n",
              "97  There are over 100 different coronavirus vacci...\n",
              "98  Humankind has never had a more urgent task tha...\n",
              "99  : Developing a vaccine against COVID19 is amon...\n",
              "\n",
              "[100 rows x 1 columns]"
            ]
          },
          "metadata": {
            "tags": []
          },
          "execution_count": 28
        }
      ]
    },
    {
      "cell_type": "code",
      "metadata": {
        "id": "aHn3um_jxalI",
        "outputId": "11524e29-a64f-4b1f-b186-7c213f15159e",
        "colab": {
          "base_uri": "https://localhost:8080/",
          "height": 419
        }
      },
      "source": [
        "#create a fn to get the subjectivity\n",
        "\n",
        "def getSubjectivity(text):\n",
        "  return TextBlob(text).sentiment.subjectivity\n",
        "\n",
        "def getPolarity(text):\n",
        "  return TextBlob(text).sentiment.polarity\n",
        "\n",
        "#create 2 new columns : subjectivity and polarity \n",
        "\n",
        "df['Subjectivity']=df['Tweets'].apply(getSubjectivity)\n",
        "df['Polarity']=df['Tweets'].apply(getPolarity)\n",
        "\n",
        "#showing the new dataframes\n",
        "\n",
        "df\n",
        "\n"
      ],
      "execution_count": 29,
      "outputs": [
        {
          "output_type": "execute_result",
          "data": {
            "text/html": [
              "<div>\n",
              "<style scoped>\n",
              "    .dataframe tbody tr th:only-of-type {\n",
              "        vertical-align: middle;\n",
              "    }\n",
              "\n",
              "    .dataframe tbody tr th {\n",
              "        vertical-align: top;\n",
              "    }\n",
              "\n",
              "    .dataframe thead th {\n",
              "        text-align: right;\n",
              "    }\n",
              "</style>\n",
              "<table border=\"1\" class=\"dataframe\">\n",
              "  <thead>\n",
              "    <tr style=\"text-align: right;\">\n",
              "      <th></th>\n",
              "      <th>Tweets</th>\n",
              "      <th>Subjectivity</th>\n",
              "      <th>Polarity</th>\n",
              "    </tr>\n",
              "  </thead>\n",
              "  <tbody>\n",
              "    <tr>\n",
              "      <th>0</th>\n",
              "      <td>For decades,  has worked tirelessly to EndPoli...</td>\n",
              "      <td>0.250000</td>\n",
              "      <td>0.250000</td>\n",
              "    </tr>\n",
              "    <tr>\n",
              "      <th>1</th>\n",
              "      <td>: Even with his busy schedule, Dr. Fauci took ...</td>\n",
              "      <td>0.294444</td>\n",
              "      <td>-0.027778</td>\n",
              "    </tr>\n",
              "    <tr>\n",
              "      <th>2</th>\n",
              "      <td>I’ve been working for some time on a book abou...</td>\n",
              "      <td>0.375000</td>\n",
              "      <td>0.187500</td>\n",
              "    </tr>\n",
              "    <tr>\n",
              "      <th>3</th>\n",
              "      <td>It’s inspiring to see so much passion these da...</td>\n",
              "      <td>0.650000</td>\n",
              "      <td>0.316667</td>\n",
              "    </tr>\n",
              "    <tr>\n",
              "      <th>4</th>\n",
              "      <td>India’s research and manufacturing capacity ar...</td>\n",
              "      <td>0.900000</td>\n",
              "      <td>0.250000</td>\n",
              "    </tr>\n",
              "    <tr>\n",
              "      <th>...</th>\n",
              "      <td>...</td>\n",
              "      <td>...</td>\n",
              "      <td>...</td>\n",
              "    </tr>\n",
              "    <tr>\n",
              "      <th>95</th>\n",
              "      <td>Class of 2020, these are not easy times. But w...</td>\n",
              "      <td>0.833333</td>\n",
              "      <td>-0.216667</td>\n",
              "    </tr>\n",
              "    <tr>\n",
              "      <th>96</th>\n",
              "      <td>: To overcome COVID19 the world doesn’t just n...</td>\n",
              "      <td>0.000000</td>\n",
              "      <td>0.000000</td>\n",
              "    </tr>\n",
              "    <tr>\n",
              "      <th>97</th>\n",
              "      <td>There are over 100 different coronavirus vacci...</td>\n",
              "      <td>0.600000</td>\n",
              "      <td>0.000000</td>\n",
              "    </tr>\n",
              "    <tr>\n",
              "      <th>98</th>\n",
              "      <td>Humankind has never had a more urgent task tha...</td>\n",
              "      <td>0.292411</td>\n",
              "      <td>0.140625</td>\n",
              "    </tr>\n",
              "    <tr>\n",
              "      <th>99</th>\n",
              "      <td>: Developing a vaccine against COVID19 is amon...</td>\n",
              "      <td>0.416667</td>\n",
              "      <td>0.375000</td>\n",
              "    </tr>\n",
              "  </tbody>\n",
              "</table>\n",
              "<p>100 rows × 3 columns</p>\n",
              "</div>"
            ],
            "text/plain": [
              "                                               Tweets  Subjectivity  Polarity\n",
              "0   For decades,  has worked tirelessly to EndPoli...      0.250000  0.250000\n",
              "1   : Even with his busy schedule, Dr. Fauci took ...      0.294444 -0.027778\n",
              "2   I’ve been working for some time on a book abou...      0.375000  0.187500\n",
              "3   It’s inspiring to see so much passion these da...      0.650000  0.316667\n",
              "4   India’s research and manufacturing capacity ar...      0.900000  0.250000\n",
              "..                                                ...           ...       ...\n",
              "95  Class of 2020, these are not easy times. But w...      0.833333 -0.216667\n",
              "96  : To overcome COVID19 the world doesn’t just n...      0.000000  0.000000\n",
              "97  There are over 100 different coronavirus vacci...      0.600000  0.000000\n",
              "98  Humankind has never had a more urgent task tha...      0.292411  0.140625\n",
              "99  : Developing a vaccine against COVID19 is amon...      0.416667  0.375000\n",
              "\n",
              "[100 rows x 3 columns]"
            ]
          },
          "metadata": {
            "tags": []
          },
          "execution_count": 29
        }
      ]
    },
    {
      "cell_type": "code",
      "metadata": {
        "id": "-7J_TeoFBfUN",
        "outputId": "e8aee2e7-1705-4a58-a783-f96530eb7100",
        "colab": {
          "base_uri": "https://localhost:8080/",
          "height": 248
        }
      },
      "source": [
        "# plot the Word cloud\n",
        "\n",
        "allwords=' '.join([twts for twts in df['Tweets']])\n",
        "wordCloud =WordCloud(width = 1100,height=1000,random_state=21,max_font_size=119).generate(allwords)\n",
        "\n",
        "plt.imshow(wordCloud,interpolation=\"bilinear\")\n",
        "plt.axis('off')\n",
        "plt.show()"
      ],
      "execution_count": 37,
      "outputs": [
        {
          "output_type": "display_data",
          "data": {
            "image/png": "[encoded data removed]",
            "text/plain": [
              "<Figure size 432x288 with 1 Axes>"
            ]
          },
          "metadata": {
            "tags": [],
            "needs_background": "light"
          }
        }
      ]
    },
    {
      "cell_type": "code",
      "metadata": {
        "id": "vndqGR5dCwjv",
        "outputId": "e02e1873-1b0a-466c-e3d2-9ef1b93e9554",
        "colab": {
          "base_uri": "https://localhost:8080/",
          "height": 419
        }
      },
      "source": [
        "#create a fun to compute the sentiiment analysis\n",
        "\n",
        "def getAnalysis(score):\n",
        "  if score<0:\n",
        "    return 'Negative'\n",
        "  elif score==0:\n",
        "    return 'Neutral'\n",
        "  else:\n",
        "    return 'Positive'\n",
        "  \n",
        "df['Analysis']=df['Polarity'].apply(getAnalysis)\n",
        "\n",
        "df"
      ],
      "execution_count": 39,
      "outputs": [
        {
          "output_type": "execute_result",
          "data": {
            "text/html": [
              "<div>\n",
              "<style scoped>\n",
              "    .dataframe tbody tr th:only-of-type {\n",
              "        vertical-align: middle;\n",
              "    }\n",
              "\n",
              "    .dataframe tbody tr th {\n",
              "        vertical-align: top;\n",
              "    }\n",
              "\n",
              "    .dataframe thead th {\n",
              "        text-align: right;\n",
              "    }\n",
              "</style>\n",
              "<table border=\"1\" class=\"dataframe\">\n",
              "  <thead>\n",
              "    <tr style=\"text-align: right;\">\n",
              "      <th></th>\n",
              "      <th>Tweets</th>\n",
              "      <th>Subjectivity</th>\n",
              "      <th>Polarity</th>\n",
              "      <th>Analysis</th>\n",
              "    </tr>\n",
              "  </thead>\n",
              "  <tbody>\n",
              "    <tr>\n",
              "      <th>0</th>\n",
              "      <td>For decades,  has worked tirelessly to EndPoli...</td>\n",
              "      <td>0.250000</td>\n",
              "      <td>0.250000</td>\n",
              "      <td>Positive</td>\n",
              "    </tr>\n",
              "    <tr>\n",
              "      <th>1</th>\n",
              "      <td>: Even with his busy schedule, Dr. Fauci took ...</td>\n",
              "      <td>0.294444</td>\n",
              "      <td>-0.027778</td>\n",
              "      <td>Negative</td>\n",
              "    </tr>\n",
              "    <tr>\n",
              "      <th>2</th>\n",
              "      <td>I’ve been working for some time on a book abou...</td>\n",
              "      <td>0.375000</td>\n",
              "      <td>0.187500</td>\n",
              "      <td>Positive</td>\n",
              "    </tr>\n",
              "    <tr>\n",
              "      <th>3</th>\n",
              "      <td>It’s inspiring to see so much passion these da...</td>\n",
              "      <td>0.650000</td>\n",
              "      <td>0.316667</td>\n",
              "      <td>Positive</td>\n",
              "    </tr>\n",
              "    <tr>\n",
              "      <th>4</th>\n",
              "      <td>India’s research and manufacturing capacity ar...</td>\n",
              "      <td>0.900000</td>\n",
              "      <td>0.250000</td>\n",
              "      <td>Positive</td>\n",
              "    </tr>\n",
              "    <tr>\n",
              "      <th>...</th>\n",
              "      <td>...</td>\n",
              "      <td>...</td>\n",
              "      <td>...</td>\n",
              "      <td>...</td>\n",
              "    </tr>\n",
              "    <tr>\n",
              "      <th>95</th>\n",
              "      <td>Class of 2020, these are not easy times. But w...</td>\n",
              "      <td>0.833333</td>\n",
              "      <td>-0.216667</td>\n",
              "      <td>Negative</td>\n",
              "    </tr>\n",
              "    <tr>\n",
              "      <th>96</th>\n",
              "      <td>: To overcome COVID19 the world doesn’t just n...</td>\n",
              "      <td>0.000000</td>\n",
              "      <td>0.000000</td>\n",
              "      <td>Neutral</td>\n",
              "    </tr>\n",
              "    <tr>\n",
              "      <th>97</th>\n",
              "      <td>There are over 100 different coronavirus vacci...</td>\n",
              "      <td>0.600000</td>\n",
              "      <td>0.000000</td>\n",
              "      <td>Neutral</td>\n",
              "    </tr>\n",
              "    <tr>\n",
              "      <th>98</th>\n",
              "      <td>Humankind has never had a more urgent task tha...</td>\n",
              "      <td>0.292411</td>\n",
              "      <td>0.140625</td>\n",
              "      <td>Positive</td>\n",
              "    </tr>\n",
              "    <tr>\n",
              "      <th>99</th>\n",
              "      <td>: Developing a vaccine against COVID19 is amon...</td>\n",
              "      <td>0.416667</td>\n",
              "      <td>0.375000</td>\n",
              "      <td>Positive</td>\n",
              "    </tr>\n",
              "  </tbody>\n",
              "</table>\n",
              "<p>100 rows × 4 columns</p>\n",
              "</div>"
            ],
            "text/plain": [
              "                                               Tweets  ...  Analysis\n",
              "0   For decades,  has worked tirelessly to EndPoli...  ...  Positive\n",
              "1   : Even with his busy schedule, Dr. Fauci took ...  ...  Negative\n",
              "2   I’ve been working for some time on a book abou...  ...  Positive\n",
              "3   It’s inspiring to see so much passion these da...  ...  Positive\n",
              "4   India’s research and manufacturing capacity ar...  ...  Positive\n",
              "..                                                ...  ...       ...\n",
              "95  Class of 2020, these are not easy times. But w...  ...  Negative\n",
              "96  : To overcome COVID19 the world doesn’t just n...  ...   Neutral\n",
              "97  There are over 100 different coronavirus vacci...  ...   Neutral\n",
              "98  Humankind has never had a more urgent task tha...  ...  Positive\n",
              "99  : Developing a vaccine against COVID19 is amon...  ...  Positive\n",
              "\n",
              "[100 rows x 4 columns]"
            ]
          },
          "metadata": {
            "tags": []
          },
          "execution_count": 39
        }
      ]
    },
    {
      "cell_type": "code",
      "metadata": {
        "id": "CshsLFtKFWWW",
        "outputId": "148bea8e-b149-4cab-8f21-1f4a412aee62",
        "colab": {
          "base_uri": "https://localhost:8080/",
          "height": 1000
        }
      },
      "source": [
        "\n",
        "#print all of the positive tweets\n",
        "\n",
        "j=1\n",
        "sortedDF= df.sort_values(by=['Polarity'])\n",
        "for i in range(0,sortedDF.shape[0]):\n",
        "  if(sortedDF['Analysis'][i]=='Positive'):\n",
        "    print(str(j)+') '+ sortedDF['Tweets'][i])\n",
        "    print()\n",
        "    j=j+1"
      ],
      "execution_count": 43,
      "outputs": [
        {
          "output_type": "stream",
          "text": [
            "1) For decades,  has worked tirelessly to EndPolio. Today, the health infrastructure they’ve built around the world is supporting the COVID-19 response. WorldPolioDay \n",
            "\n",
            "2) I’ve been working for some time on a book about what we need to do over the next decade to avoid a climate disaster. I’m excited that it will be published on February 16. \n",
            "\n",
            "3) It’s inspiring to see so much passion these days for dealing with climate change, and to know that the world has set some ambitious goals for solving it. What we need now are practical plans to reach those goals.\n",
            "\n",
            "4) India’s research and manufacturing capacity are critical for fighting COVID-19. Thank you  for speaking at today’s Grand Challenges meeting.  \n",
            "\n",
            "5) Europe has an opportunity to get its economy back on track in a way that creates good jobs and reinforces its global climate leadership. Here are 55 ideas on how Europe can develop and scale up the innovative technologies we'll need to reach net-zero. \n",
            "\n",
            "6) .’s work in the community is as inspiring as his amazing record on the basketball court. I really appreciated the thoughtful conversation. \n",
            "\n",
            "7) Dr. Tunji Funsho’s work with  was essential in stopping wild polio in Africa and will help create a polio-free world for all. A well-deserved recognition. \n",
            "\n",
            "8) I’m excited to see this kind of innovation. Detecting and predicting outbreaks earlier is critical to preventing epidemics. \n",
            "\n",
            "9) The only way to eliminate the threat of COVID-19 somewhere is to eliminate it everywhere. By making sure poor countries are equipped to stop this disease, wealthy countries will help themselves and bring this crisis to an end sooner. \n",
            "\n",
            "10) Understanding this concept can help us measure our progress toward eliminating carbon emissions and serve as a guide to action. \n",
            "\n",
            "11) Developing and manufacturing vaccines won’t end the pandemic quickly unless we also deliver them equitably. Here is why it’s critical that vaccines are distributed in proportion to the global population:  \n",
            "\n",
            "12) Great to see the UK commit vital funding to ensure COVID-19 vaccines are available for the world’s poorest people. PM 's plan will improve the way we prepare for future crises like this. \n",
            "\n",
            "13) After 20 years of stunning advances toward global goals to improve health and reduce poverty, the COVID-19 pandemic stopped progress in its tracks. In our foundation’s Goalkeepers report, we survey the damage and discuss how to start reversing it. \n",
            "\n",
            "14) Dr. John Nkengasong is a true Goalkeeper. His leadership will help ensure Africa has the tools it needs to fight COVID-19:  \n",
            "\n",
            "15) Justice Ginsburg was a trailblazer who devoted her entire career to fighting for equal justice for women, because she knew it would improve life for everyone. America is a better place because of her service. I am inspired by her life and legacy. \n",
            "\n",
            "16) My dad was the “real” Bill Gates. He was everything I try to be and I will miss him every day.\n",
            "\n",
            "\n",
            "\n",
            "17) Thank you to the heroes everywhere working to keep us safe. I hope their stories inspire you just as much as they have me:  \n",
            "\n",
            "18) These heroes represent the best of who we can be. Their efforts to solve the world’s challenges demonstrate our values as a society and they serve as powerful examples of how to make a positive difference in the world. \n",
            "\n",
            "19) : Some countries responded successfully to the pandemic – and more broadly, some are much more successful in protecting t…\n",
            "\n",
            "20) Clinical trials are critical to helping researchers better understand Alzheimer's. Improving how we identify and enroll participants in those trials will accelerate progress on diagnosing and treating the disease. \n",
            "\n",
            "21) I tackle every big new problem by asking two questions: Who has dealt with this problem well? And what can we learn from them?  will help to fill the gap in global health knowledge sharing and to accelerate progress in saving lives. \n",
            "\n",
            "22) Of all the things I’ve learned from Warren Buffett (and there have been a lot), the most important might be what friendship is all about. Here’s why he’s a person that I admire as well as like: \n",
            "\n",
            "23) Happy 90th birthday, Warren! \n",
            "\n",
            "24) ., thank you for making the world a healthier and more equitable place. Your understanding of how we can improve global prosperity, through support of organizations like , has been truly inspiring. Please now go take care of your own health.\n",
            "\n",
            "25) : 6 months ago, Africa confirmed its first case of COVID19. Since then, there have been 1 million cases, affecting every country on…\n",
            "\n",
            "26) If we’re going to address climate change, we need to find new ways to do things that don’t release greenhouse gases—including how we move around. \n",
            "\n",
            "27) Today we move one step closer toward a world without polio. This is an incredible milestone that’s worth celebrating. It is also an important reminder of what can be accomplished when we work together toward a common goal. \n",
            "\n",
            "28) : Thanks to the commitment of leaders from all 47 countries in the  Region, history was made today: the entire A…\n",
            "\n",
            "29) Mosquito City is home to the world’s largest captive colony of mosquitoes.  Institute is doing fascinating research there about mosquito behaviors and finding ways to outsmart them. \n",
            "\n",
            "30) Deaths from malaria have been cut by more than half since the year 2000. Increased bed net use is one of the main reasons why  WorldMosquitoDay\n",
            "\n",
            "31) Ridding the world of preventable, treatable diseases like malaria will save millions of lives and lead to healthier, more prosperous communities. And that will make them better prepared to confront any new health challenges like COVID-19 in the future.  \n",
            "\n",
            "32) The progress the world has made against malaria is one of the greatest success stories ever. The COVID-19 pandemic only reinforces why eradicating malaria is so essential. \n",
            "\n",
            "33) : A safe and effective COVID19 vaccine is the way out of this devastating pandemic🌍\n",
            "\n",
            "Our Director of Vaccine R&amp;D, Melanie…\n",
            "\n",
            "34) Teaching special education takes an amazing person to figure out exactly what works for each child. Talking with Washington State Teacher of the Year Amy Campbell gave me an even greater appreciation for these educators:  \n",
            "\n",
            "35) Our foundation is partnering with  to support teachers as they get ready to go back to school—in whatever form that takes—and will boost your donations to the classroom project of your choice today. \n",
            "\n",
            "36) I always look forward to meeting Washington’s Teacher of the Year. This year’s recipient, Amy Campbell (_MrsCampbell), is a remarkable advocate for her students, and I loved learning about her approach to teaching special ed. \n",
            "\n",
            "37) The world did not do enough to prepare for a pandemic. We can avoid making the same mistake with climate change by:\n",
            "\n",
            "1. Letting science and innovation lead the way\n",
            "2. Making sure solutions work for poor countries too\n",
            "3. Getting started now\n",
            "\n",
            "\n",
            "\n",
            "38) Great tips from _Bergstrom about how to find reliable sources of information and test claims you may see about the pandemic in your social media feeds. \n",
            "\n",
            "39) The impacts of COVID-19 are driving worrying increases in malnutrition and health outcomes. However, there are clear actions that can be taken in both the near- and long-term. \n",
            "\n",
            "40) In these challenging times, we can’t lose sight of the importance of combatting climate change. I’m excited to hear about how companies like  are finding a way to play a role. \n",
            "\n",
            "41) It’s important that we continue to follow scientific data as we look for new tools to aid in the fight against coronavirus.  \n",
            "\n",
            "42) It’s hard to overstate how important finding a reliable, affordable, and easy-to-use diagnostic is for stopping Alzheimer’s. This is a big step towards that goal. \n",
            "\n",
            "43) \"Our best strategy in the age-old fight against the germs is our collaborative, data-based effort to study the world around us and within us. Our best strategy is science.\"  explains how vaccines have dramatically improved humanity’s ability to fight infectious disease. \n",
            "\n",
            "44) : Not many of us get to live to see our own legacy play out in such a meaningful, remarkable way. John Lewis did:\n",
            "\n",
            "\n",
            "\n",
            "45) This is a great loss for America, and for everyone who believes in making the world a more just place. John Lewis not only saw that our country could be better--he never stopped working to make it that way. We need leaders like him more than ever. \n",
            "\n",
            "46) : Decision-makers can take steps right now to make sure the world recovers from this pandemic stronger, more prepared &amp; mor…\n",
            "\n",
            "47) This hero is playing a critical role in Kenya’s preparations to tackle COVID-19 by scaling up medical oxygen supplies that will be needed to keep the most critically ill patients alive. \n",
            "\n",
            "48) : Happy Juneteenth fam! My latest for the . Find joy today! The images from the article alone are giving me l…\n",
            "\n",
            "49) : Proud to share my thoughts in ’s “injustice issue” on (and for) our beloved young people I call the TrayvonGene…\n",
            "\n",
            "50) I am committed to listening and learning more about systemic racism and what I can do with my actions and words to help create a more equal and just future. Black lives matter.\n",
            "\n",
            "51) : Today world leaders pledged to fully support ’s mission to give more children access to lifesaving vaccines and b…\n",
            "\n",
            "52) I continue to be inspired by all of the volunteers (including many retired health care workers and teachers) on the front lines of the fight against coronavirus each day. \n",
            "\n",
            "53) Here are five books to read this summer if you want to learn more about pandemics or are looking for a distraction:  \n",
            "\n",
            "54) Melinda recommended that I read The Choice, and I’m glad she did. I think many people will find comfort right now from Dr. Edith Eva Eger's suggestions on how to handle difficult situations. \n",
            "\n",
            "55) Today is RedNoseDay. Their work has made an incredible impact to reduce child poverty in the US and around the world. \n",
            "\n",
            "56) The 1918 influenza outbreak is the closest comparison to what we’re living through right now. John Barry does a great job explaining the realities and lessons of that devastating pandemic. \n",
            "\n",
            "57) Most of my conversations these days are about COVID-19 and how we can stem the tide, but I’m also often asked about what I am reading and watching. Here are my 2020 summer book recommendations (plus a few other ideas for things to do at home). \n",
            "\n",
            "58)   Thank you for the conversation and partnership, . Combating the pandemic requires global collaboration. India’s role is key as the world works to minimize social and economic impact, and pave the way to vaccine, testing, and treatment access for all. \n",
            "\n",
            "59) : When will America be able to get back to work? \n",
            "\n",
            "The answer depends on whether workers have caregiving options they can r…\n",
            "\n",
            "60) Humankind has never had a more urgent task than creating broad immunity for coronavirus. It’s going to require a global cooperative effort like the world has never seen. But I know we’ll get it done. There’s simply no alternative. \n",
            "\n",
            "61) : Developing a vaccine against COVID19 is among the first steps to a solution.\n",
            "\n",
            "Distributing the vaccine safely, effect…\n",
            "\n"
          ],
          "name": "stdout"
        }
      ]
    },
    {
      "cell_type": "code",
      "metadata": {
        "id": "5GkgC3yxGVKy",
        "outputId": "27fb02f0-ba7e-4492-f46d-d9776aff45f0",
        "colab": {
          "base_uri": "https://localhost:8080/",
          "height": 632
        }
      },
      "source": [
        "#print the negative tweets\n",
        "\n",
        "j=1\n",
        "sortedDFN=df.sort_values(by=['Polarity'],ascending='False')\n",
        "for i in range(0,sortedDFN.shape[0]):\n",
        "  if(sortedDFN['Analysis'][i]=='Negative'):\n",
        "    print(str(j)+') '+ sortedDFN['Tweets'][i])\n",
        "    print()\n",
        "    j=j+1"
      ],
      "execution_count": 46,
      "outputs": [
        {
          "output_type": "stream",
          "text": [
            "1) : Even with his busy schedule, Dr. Fauci took the time to sit down with me (AGAIN) and talk about what we’ve gotten right…\n",
            "\n",
            "2) : What do COVID-19 and malaria have to do with each other?  \n",
            "\n",
            "When COVID-19 struck, it disrupted the entire global healt…\n",
            "\n",
            "3) To prevent the worst effects of climate change, we need innovation across all sectors—especially in the hardest to decarbonize sectors—to get us on a viable path to net-zero emissions. \n",
            "\n",
            "4) Because of long-standing barriers that are made worse by COVID-19, hundreds of thousands of students with promise may never start college. This would be disastrous for these young people and for the country. Here’s what we’re doing to help: \n",
            "\n",
            "5) : Three lessons that have been central to the COVID19 response in South Africa, Liberia, &amp; other countries:\n",
            "🔸 Screening…\n",
            "\n",
            "6) Globally, a lack of medical oxygen–needed to treat pneumonia, malaria, and other diseases–leads to hundreds of thousands of deaths each year.  founded _Tele to address this often-overlooked challenge. \n",
            "\n",
            "7) : “It’s that clarity of language about the VALUE of black life in America that distinguishes Juneteenth as emancipation…\n",
            "\n",
            "8) : “Only those feigning blindness fail to see the body of work we are, and the work of body we have done. \n",
            "\n",
            "Everything is what it is…\n",
            "\n",
            "9) : Juneteenth recognizes &amp; celebrates Black people’s freedom and the end of slavery in the US!  19 Jun 1865 Union Army Genera…\n",
            "\n",
            "10) _Nyongo: 1. This is Opal Lee, the force behind the movement to make Juneteenth a national holiday. Also known as Freedom Day, it…\n",
            "\n",
            "11) …in policing, criminal justice, education, health care, housing, the workplace and all other areas of their lives.\n",
            "\n",
            "12) The horrifying killings of George Floyd, Ahmaud Arbery, Breonna Taylor and far too many other Black people—and the protests they sparked—are shining a light on the brutal injustices that Black people experience every day…\n",
            "\n",
            "13) : The video of George Floyd’s brutal death broke my heart. I’ve watched the protests that followed and have felt overwhelme…\n",
            "\n",
            "14) I’m hopeful that this program will improve our understanding of the coronavirus outbreak in Seattle and provide valuable information about the virus for other communities around the world. \n",
            "\n",
            "15) Class of 2020, these are not easy times. But we will get through them. And with your leadership, the world will be stronger than before. \n",
            "\n"
          ],
          "name": "stdout"
        }
      ]
    },
    {
      "cell_type": "code",
      "metadata": {
        "id": "oYUO61StIVNx",
        "outputId": "8630b4cb-a936-4cd0-9bab-3fc4aabe8444",
        "colab": {
          "base_uri": "https://localhost:8080/",
          "height": 404
        }
      },
      "source": [
        "#Plot the polarity and subjectivity\n",
        "\n",
        "plt.figure(figsize=(8,6))\n",
        "for i in range(0,df.shape[0]):\n",
        "  plt.scatter(df['Polarity'][i],df['Subjectivity'][i],color='Blue')\n",
        "\n",
        "plt.title('Sentiment Analysis')\n",
        "plt.xlabel('Polarity')\n",
        "plt.ylabel('Subjectivity')\n",
        "plt.show()"
      ],
      "execution_count": 48,
      "outputs": [
        {
          "output_type": "display_data",
          "data": {
            "image/png": "[encoded data removed]",
            "text/plain": [
              "<Figure size 576x432 with 1 Axes>"
            ]
          },
          "metadata": {
            "tags": [],
            "needs_background": "light"
          }
        }
      ]
    },
    {
      "cell_type": "code",
      "metadata": {
        "id": "-TujitijJs1p",
        "outputId": "3ea46565-58a9-4943-e718-8bd36ca4d94a",
        "colab": {
          "base_uri": "https://localhost:8080/",
          "height": 34
        }
      },
      "source": [
        "#Get the percentage \n",
        "ptweets =df[df.Analysis =='Positive']\n",
        "ptweets=ptweets['Tweets']\n",
        "\n",
        "round((ptweets.shape[0]/df.shape[0])*100,1)\n",
        "\n"
      ],
      "execution_count": 50,
      "outputs": [
        {
          "output_type": "execute_result",
          "data": {
            "text/plain": [
              "61.0"
            ]
          },
          "metadata": {
            "tags": []
          },
          "execution_count": 50
        }
      ]
    },
    {
      "cell_type": "code",
      "metadata": {
        "id": "pcvw8yADKpES",
        "outputId": "38feb6f1-7c53-42cd-8d99-3c127e4ef20c",
        "colab": {
          "base_uri": "https://localhost:8080/",
          "height": 34
        }
      },
      "source": [
        "#Get the percentage of negative \n",
        "ptweets =df[df.Analysis =='Negative']\n",
        "ptweets=ptweets['Tweets']\n",
        "\n",
        "round((ptweets.shape[0]/df.shape[0])*100,1)\n",
        "\n"
      ],
      "execution_count": 51,
      "outputs": [
        {
          "output_type": "execute_result",
          "data": {
            "text/plain": [
              "15.0"
            ]
          },
          "metadata": {
            "tags": []
          },
          "execution_count": 51
        }
      ]
    },
    {
      "cell_type": "code",
      "metadata": {
        "id": "TF7Eo5S5LNM0",
        "outputId": "7fc2659b-9522-40d7-fccd-846f81e7c4e5",
        "colab": {
          "base_uri": "https://localhost:8080/",
          "height": 34
        }
      },
      "source": [
        "#Get the percentage of neutral \n",
        "ptweets =df[df.Analysis =='Neutral']\n",
        "ptweets=ptweets['Tweets']\n",
        "\n",
        "round((ptweets.shape[0]/df.shape[0])*100,1)\n"
      ],
      "execution_count": 52,
      "outputs": [
        {
          "output_type": "execute_result",
          "data": {
            "text/plain": [
              "24.0"
            ]
          },
          "metadata": {
            "tags": []
          },
          "execution_count": 52
        }
      ]
    },
    {
      "cell_type": "code",
      "metadata": {
        "id": "koNIszbeLUHp",
        "outputId": "1ebdb709-6a55-4d90-e1cb-eb4f5916317e",
        "colab": {
          "base_uri": "https://localhost:8080/",
          "height": 330
        }
      },
      "source": [
        "#show the count \n",
        "\n",
        "df['Analysis'].value_counts()\n",
        "#plot and visualise the counts\n",
        "\n",
        "plt.title('Sentiment Analysis')\n",
        "plt.xlabel('Sentiment')\n",
        "plt.ylabel('Count')\n",
        "df['Analysis'].value_counts().plot(kind='bar')\n",
        "plt.show()"
      ],
      "execution_count": 54,
      "outputs": [
        {
          "output_type": "display_data",
          "data": {
            "image/png": "[encoded data removed]",
            "text/plain": [
              "<Figure size 432x288 with 1 Axes>"
            ]
          },
          "metadata": {
            "tags": [],
            "needs_background": "light"
          }
        }
      ]
    },
    {
      "cell_type": "code",
      "metadata": {
        "id": "gy6gMF95MOyh"
      },
      "source": [
        ""
      ],
      "execution_count": null,
      "outputs": []
    },
    {
      "cell_type": "code",
      "metadata": {
        "id": "gIbvBEZCNkZz"
      },
      "source": [
        ""
      ],
      "execution_count": null,
      "outputs": []
    }
  ]
}
